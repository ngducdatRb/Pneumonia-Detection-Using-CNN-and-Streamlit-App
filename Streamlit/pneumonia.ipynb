{
  "nbformat": 4,
  "nbformat_minor": 0,
  "metadata": {
    "colab": {
      "name": "pneumonia.ipynb",
      "provenance": [],
      "collapsed_sections": []
    },
    "kernelspec": {
      "name": "python3",
      "display_name": "Python 3"
    },
    "language_info": {
      "name": "python"
    }
  },
  "cells": [
    {
      "cell_type": "markdown",
      "source": [
        "# **Kết nối Dr**"
      ],
      "metadata": {
        "id": "qsesm0H9NoUD"
      }
    },
    {
      "cell_type": "code",
      "source": [
        "from google.colab import drive\n",
        "drive.mount('/content/drive')"
      ],
      "metadata": {
        "colab": {
          "base_uri": "https://localhost:8080/"
        },
        "id": "Yqp9nwOqNnFR",
        "outputId": "3381c5bc-56e4-4301-fb17-8fa316b60a35"
      },
      "execution_count": null,
      "outputs": [
        {
          "output_type": "stream",
          "name": "stdout",
          "text": [
            "Drive already mounted at /content/drive; to attempt to forcibly remount, call drive.mount(\"/content/drive\", force_remount=True).\n"
          ]
        }
      ]
    },
    {
      "cell_type": "markdown",
      "source": [
        "# **Thư Viện**"
      ],
      "metadata": {
        "id": "9xpcX1tWNx2L"
      }
    },
    {
      "cell_type": "code",
      "source": [
        "import keras\n",
        "from keras.models import Sequential\n",
        "from glob import glob\n",
        "from keras.layers import Dense, Dropout, Flatten,Activation\n",
        "from keras.layers import Conv2D, MaxPooling2D, Conv3D, BatchNormalization\n",
        "from keras.preprocessing.image import ImageDataGenerator, load_img,img_to_array\n",
        "import matplotlib.pyplot as plt\n",
        "import seaborn as sns\n",
        "from keras.preprocessing.image import load_img\n",
        "from keras.preprocessing.image import img_to_array\n",
        "from keras.preprocessing.image import array_to_img\n",
        "import numpy as np\n",
        "import matplotlib.pyplot as plt"
      ],
      "metadata": {
        "id": "nKc1CuHrNrgw"
      },
      "execution_count": null,
      "outputs": []
    },
    {
      "cell_type": "markdown",
      "source": [
        "# **LOAD MODEL**"
      ],
      "metadata": {
        "id": "bnRn-5z-Cq7P"
      }
    },
    {
      "cell_type": "code",
      "source": [
        "from keras.models import load_model\n",
        "model = load_model('Hue.h5')"
      ],
      "metadata": {
        "id": "FNvvGGThUkG_"
      },
      "execution_count": null,
      "outputs": []
    },
    {
      "cell_type": "code",
      "source": [
        "dudoan = {0: 'NORMAL',\n",
        "          1: 'PNEUMONIA'}"
      ],
      "metadata": {
        "id": "O9UQFDtf_5N2"
      },
      "execution_count": null,
      "outputs": []
    },
    {
      "cell_type": "markdown",
      "source": [
        "# **Loading Data**"
      ],
      "metadata": {
        "id": "Oe17UB7EN46A"
      }
    },
    {
      "cell_type": "code",
      "source": [
        "test_path=\"/content/drive/MyDrive/pneumonia_xray/test\"\n",
        "train_path=\"/content/drive/MyDrive/pneumonia_xray/train\"\n",
        "val_path=\"/content/drive/MyDrive/pneumonia_xray/val\""
      ],
      "metadata": {
        "id": "BRfy-HOoN72R"
      },
      "execution_count": null,
      "outputs": []
    },
    {
      "cell_type": "code",
      "source": [
        "import os\n",
        "x1 =os.listdir( '/content/drive/MyDrive/pneumonia_xray/train/NORMAL')\n",
        "x2 =os.listdir( '/content/drive/MyDrive/pneumonia_xray/train/PNEUMONIA')"
      ],
      "metadata": {
        "id": "w3ZPnINSWvH7"
      },
      "execution_count": null,
      "outputs": []
    },
    {
      "cell_type": "code",
      "source": [
        "sns.set_style('whitegrid')\n",
        "sns.barplot(x=['Normal','Pneumonia'],y=[len(x1),len(x2)])\n",
        "plt.title('Datasets')"
      ],
      "metadata": {
        "colab": {
          "base_uri": "https://localhost:8080/",
          "height": 298
        },
        "id": "DcxZrhhWVAW6",
        "outputId": "e86249b1-7189-4b25-a884-9e5c0938d0b7"
      },
      "execution_count": null,
      "outputs": [
        {
          "output_type": "execute_result",
          "data": {
            "text/plain": [
              "Text(0.5, 1.0, 'Datasets')"
            ]
          },
          "metadata": {},
          "execution_count": 15
        },
        {
          "output_type": "display_data",
          "data": {
            "text/plain": [
              "<Figure size 432x288 with 1 Axes>"
            ],
            "image/png": "[encoded data removed]"
          },
          "metadata": {}
        }
      ]
    },
    {
      "cell_type": "markdown",
      "source": [
        "# **Model Create**"
      ],
      "metadata": {
        "id": "33wVm7C-OF0J"
      }
    },
    {
      "cell_type": "code",
      "source": [
        "train_datagen = ImageDataGenerator(rescale=1/255,\n",
        "                                        rotation_range=0.2, #xoay hình\n",
        "                                        horizontal_flip=True,\n",
        "                                        vertical_flip=True,\n",
        "                                        zoom_range=0.2)\n",
        "\n",
        "test_datagen = ImageDataGenerator(rescale=1./255)\n",
        "\n",
        "train_set = train_datagen.flow_from_directory(train_path,\n",
        "                                                 target_size=(64, 64),\n",
        "                                                 batch_size=10,\n",
        "                                                 class_mode='categorical')\n",
        "\n",
        "\n",
        "\n",
        "test_set = test_datagen.flow_from_directory(test_path,\n",
        "                                            target_size=(64, 64),\n",
        "                                            batch_size=10,\n",
        "                                            class_mode='categorical')\n",
        "\n",
        "\n",
        "\n",
        "val_set = train_datagen.flow_from_directory(val_path,\n",
        "                                            target_size=(64, 64),\n",
        "                                            batch_size=10,\n",
        "                                            shuffle=True,\n",
        "                                            class_mode='categorical')"
      ],
      "metadata": {
        "colab": {
          "base_uri": "https://localhost:8080/"
        },
        "id": "9vMaeBzAOR6M",
        "outputId": "4acc1385-df53-4dec-8b62-f18df33b9699"
      },
      "execution_count": null,
      "outputs": [
        {
          "output_type": "stream",
          "name": "stdout",
          "text": [
            "Found 5232 images belonging to 2 classes.\n",
            "Found 624 images belonging to 2 classes.\n",
            "Found 16 images belonging to 2 classes.\n"
          ]
        }
      ]
    },
    {
      "cell_type": "code",
      "source": [
        "model = Sequential()\n",
        "model.add(Conv2D(64, kernel_size=(3,3), activation='relu', input_shape=(64, 64, 3)))\n",
        "model.add(MaxPooling2D(pool_size=(2,2)))\n",
        "\n",
        "model.add(Conv2D(32, kernel_size=(3,3), activation='relu'))\n",
        "model.add(MaxPooling2D(pool_size=(2,2)))\n",
        "\n",
        "model.add(Conv2D(16, kernel_size=(3,3), activation='relu'))\n",
        "model.add(MaxPooling2D(pool_size=(2,2)))\n",
        "\n",
        "model.add(Conv2D(8, kernel_size=(3,3), activation='relu'))\n",
        "model.add(MaxPooling2D(pool_size=(2,2)))\n",
        "\n",
        "model.add(Flatten())\n",
        "model.add(Activation(\"relu\"))\n",
        "model.add(Dense(1024))\n",
        "model.add(Dropout(0.4))\n",
        "model.add(Dense(2))\n",
        "model.add(Activation(\"softmax\"))\n",
        "model.compile(optimizer='adam', loss='binary_crossentropy', metrics=['accuracy'])\n"
      ],
      "metadata": {
        "id": "y3MunGKSOG5w"
      },
      "execution_count": null,
      "outputs": []
    },
    {
      "cell_type": "code",
      "source": [
        "model.summary()"
      ],
      "metadata": {
        "id": "dLgbOTj-HrRk",
        "outputId": "3d8aee5c-a74f-4b52-9183-276bb7555918",
        "colab": {
          "base_uri": "https://localhost:8080/"
        }
      },
      "execution_count": null,
      "outputs": [
        {
          "output_type": "stream",
          "name": "stdout",
          "text": [
            "Model: \"sequential\"\n",
            "_________________________________________________________________\n",
            " Layer (type)                Output Shape              Param #   \n",
            "=================================================================\n",
            " conv2d (Conv2D)             (None, 62, 62, 64)        1792      \n",
            "                                                                 \n",
            " max_pooling2d (MaxPooling2D  (None, 31, 31, 64)       0         \n",
            " )                                                               \n",
            "                                                                 \n",
            " conv2d_1 (Conv2D)           (None, 29, 29, 32)        18464     \n",
            "                                                                 \n",
            " max_pooling2d_1 (MaxPooling  (None, 14, 14, 32)       0         \n",
            " 2D)                                                             \n",
            "                                                                 \n",
            " conv2d_2 (Conv2D)           (None, 12, 12, 16)        4624      \n",
            "                                                                 \n",
            " max_pooling2d_2 (MaxPooling  (None, 6, 6, 16)         0         \n",
            " 2D)                                                             \n",
            "                                                                 \n",
            " conv2d_3 (Conv2D)           (None, 4, 4, 8)           1160      \n",
            "                                                                 \n",
            " max_pooling2d_3 (MaxPooling  (None, 2, 2, 8)          0         \n",
            " 2D)                                                             \n",
            "                                                                 \n",
            " flatten (Flatten)           (None, 32)                0         \n",
            "                                                                 \n",
            " activation (Activation)     (None, 32)                0         \n",
            "                                                                 \n",
            " dense (Dense)               (None, 1024)              33792     \n",
            "                                                                 \n",
            " dropout (Dropout)           (None, 1024)              0         \n",
            "                                                                 \n",
            " dense_1 (Dense)             (None, 2)                 2050      \n",
            "                                                                 \n",
            " activation_1 (Activation)   (None, 2)                 0         \n",
            "                                                                 \n",
            "=================================================================\n",
            "Total params: 61,882\n",
            "Trainable params: 61,882\n",
            "Non-trainable params: 0\n",
            "_________________________________________________________________\n"
          ]
        }
      ]
    },
    {
      "cell_type": "code",
      "source": [
        "history = model.fit_generator(train_set,\n",
        "                    steps_per_epoch=3800//10,\n",
        "                    epochs=100,\n",
        "                    validation_data=test_set,\n",
        "                    validation_steps=2200//10)"
      ],
      "metadata": {
        "colab": {
          "base_uri": "https://localhost:8080/"
        },
        "id": "T41oe4enOXrk",
        "outputId": "34e0b7f2-dc43-451d-fafd-a15b252b2139"
      },
      "execution_count": null,
      "outputs": [
        {
          "metadata": {
            "tags": null
          },
          "name": "stderr",
          "output_type": "stream",
          "text": [
            "/usr/local/lib/python3.7/dist-packages/ipykernel_launcher.py:5: UserWarning: `Model.fit_generator` is deprecated and will be removed in a future version. Please use `Model.fit`, which supports generators.\n",
            "  \"\"\"\n"
          ]
        },
        {
          "output_type": "stream",
          "name": "stdout",
          "text": [
            "Epoch 1/100\n",
            "380/380 [==============================] - ETA: 0s - loss: 0.4660 - accuracy: 0.7853WARNING:tensorflow:Your input ran out of data; interrupting training. Make sure that your dataset or generator can generate at least `steps_per_epoch * epochs` batches (in this case, 220 batches). You may need to use the repeat() function when building your dataset.\n",
            "380/380 [==============================] - 2178s 6s/step - loss: 0.4660 - accuracy: 0.7853 - val_loss: 0.4600 - val_accuracy: 0.7949\n",
            "Epoch 2/100\n",
            "380/380 [==============================] - 541s 1s/step - loss: 0.3313 - accuracy: 0.8611\n",
            "Epoch 3/100\n",
            "380/380 [==============================] - 199s 523ms/step - loss: 0.3228 - accuracy: 0.8676\n",
            "Epoch 4/100\n",
            "380/380 [==============================] - 120s 315ms/step - loss: 0.3009 - accuracy: 0.8713\n",
            "Epoch 5/100\n",
            "380/380 [==============================] - 98s 258ms/step - loss: 0.2978 - accuracy: 0.8721\n",
            "Epoch 6/100\n",
            "380/380 [==============================] - 90s 237ms/step - loss: 0.2693 - accuracy: 0.8832\n",
            "Epoch 7/100\n",
            "380/380 [==============================] - 93s 245ms/step - loss: 0.2878 - accuracy: 0.8768\n",
            "Epoch 8/100\n",
            "380/380 [==============================] - 88s 232ms/step - loss: 0.2657 - accuracy: 0.8855\n",
            "Epoch 9/100\n",
            "380/380 [==============================] - 89s 233ms/step - loss: 0.2631 - accuracy: 0.8887\n",
            "Epoch 10/100\n",
            "380/380 [==============================] - 88s 231ms/step - loss: 0.2568 - accuracy: 0.8979\n",
            "Epoch 11/100\n",
            "380/380 [==============================] - 89s 235ms/step - loss: 0.2458 - accuracy: 0.8989\n",
            "Epoch 12/100\n",
            "380/380 [==============================] - 92s 241ms/step - loss: 0.2367 - accuracy: 0.9087\n",
            "Epoch 13/100\n",
            "380/380 [==============================] - 91s 240ms/step - loss: 0.2325 - accuracy: 0.9034\n",
            "Epoch 14/100\n",
            "380/380 [==============================] - 88s 231ms/step - loss: 0.2206 - accuracy: 0.9109\n",
            "Epoch 15/100\n",
            "380/380 [==============================] - 89s 233ms/step - loss: 0.2251 - accuracy: 0.9077\n",
            "Epoch 16/100\n",
            "380/380 [==============================] - 90s 237ms/step - loss: 0.2229 - accuracy: 0.9082\n",
            "Epoch 17/100\n",
            "380/380 [==============================] - 89s 235ms/step - loss: 0.2271 - accuracy: 0.9069\n",
            "Epoch 18/100\n",
            "380/380 [==============================] - 92s 241ms/step - loss: 0.2036 - accuracy: 0.9175\n",
            "Epoch 19/100\n",
            "380/380 [==============================] - 89s 234ms/step - loss: 0.1988 - accuracy: 0.9206\n",
            "Epoch 20/100\n",
            "380/380 [==============================] - 89s 235ms/step - loss: 0.2208 - accuracy: 0.9095\n",
            "Epoch 21/100\n",
            "380/380 [==============================] - 89s 235ms/step - loss: 0.2047 - accuracy: 0.9188\n",
            "Epoch 22/100\n",
            "380/380 [==============================] - 90s 237ms/step - loss: 0.1997 - accuracy: 0.9229\n",
            "Epoch 23/100\n",
            "380/380 [==============================] - 88s 233ms/step - loss: 0.2095 - accuracy: 0.9233\n",
            "Epoch 24/100\n",
            "380/380 [==============================] - 90s 238ms/step - loss: 0.1877 - accuracy: 0.9277\n",
            "Epoch 25/100\n",
            "380/380 [==============================] - 92s 242ms/step - loss: 0.1953 - accuracy: 0.9214\n",
            "Epoch 26/100\n",
            "380/380 [==============================] - 90s 236ms/step - loss: 0.1988 - accuracy: 0.9219\n",
            "Epoch 27/100\n",
            "380/380 [==============================] - 91s 239ms/step - loss: 0.1865 - accuracy: 0.9280\n",
            "Epoch 28/100\n",
            "380/380 [==============================] - 90s 238ms/step - loss: 0.1858 - accuracy: 0.9246\n",
            "Epoch 29/100\n",
            "380/380 [==============================] - 92s 242ms/step - loss: 0.1810 - accuracy: 0.9321\n",
            "Epoch 30/100\n",
            "380/380 [==============================] - 89s 235ms/step - loss: 0.1924 - accuracy: 0.9241\n",
            "Epoch 31/100\n",
            "380/380 [==============================] - 91s 240ms/step - loss: 0.1889 - accuracy: 0.9272\n",
            "Epoch 32/100\n",
            "380/380 [==============================] - 91s 239ms/step - loss: 0.1716 - accuracy: 0.9335\n",
            "Epoch 33/100\n",
            "380/380 [==============================] - 91s 239ms/step - loss: 0.1728 - accuracy: 0.9303\n",
            "Epoch 34/100\n",
            "380/380 [==============================] - 92s 242ms/step - loss: 0.1790 - accuracy: 0.9335\n",
            "Epoch 35/100\n",
            "380/380 [==============================] - 92s 242ms/step - loss: 0.1797 - accuracy: 0.9320\n",
            "Epoch 36/100\n",
            "380/380 [==============================] - 94s 248ms/step - loss: 0.1643 - accuracy: 0.9363\n",
            "Epoch 37/100\n",
            "380/380 [==============================] - 92s 243ms/step - loss: 0.1775 - accuracy: 0.9317\n",
            "Epoch 38/100\n",
            "380/380 [==============================] - 93s 246ms/step - loss: 0.1698 - accuracy: 0.9335\n",
            "Epoch 39/100\n",
            "380/380 [==============================] - 91s 238ms/step - loss: 0.1755 - accuracy: 0.9320\n",
            "Epoch 40/100\n",
            "380/380 [==============================] - 90s 238ms/step - loss: 0.1616 - accuracy: 0.9379\n",
            "Epoch 41/100\n",
            "380/380 [==============================] - 92s 242ms/step - loss: 0.1831 - accuracy: 0.9325\n",
            "Epoch 42/100\n",
            "380/380 [==============================] - 90s 238ms/step - loss: 0.1759 - accuracy: 0.9314\n",
            "Epoch 43/100\n",
            "380/380 [==============================] - 94s 246ms/step - loss: 0.1726 - accuracy: 0.9296\n",
            "Epoch 44/100\n",
            "380/380 [==============================] - 89s 235ms/step - loss: 0.1669 - accuracy: 0.9409\n",
            "Epoch 45/100\n",
            "380/380 [==============================] - 89s 235ms/step - loss: 0.1658 - accuracy: 0.9370\n",
            "Epoch 46/100\n",
            "380/380 [==============================] - 90s 238ms/step - loss: 0.1758 - accuracy: 0.9320\n",
            "Epoch 47/100\n",
            "380/380 [==============================] - 91s 238ms/step - loss: 0.1648 - accuracy: 0.9380\n",
            "Epoch 48/100\n",
            "380/380 [==============================] - 91s 240ms/step - loss: 0.1808 - accuracy: 0.9275\n",
            "Epoch 49/100\n",
            "380/380 [==============================] - 89s 235ms/step - loss: 0.1548 - accuracy: 0.9417\n",
            "Epoch 50/100\n",
            "380/380 [==============================] - 91s 239ms/step - loss: 0.1768 - accuracy: 0.9380\n",
            "Epoch 51/100\n",
            "380/380 [==============================] - 91s 239ms/step - loss: 0.1625 - accuracy: 0.9359\n",
            "Epoch 52/100\n",
            "380/380 [==============================] - 91s 240ms/step - loss: 0.1681 - accuracy: 0.9391\n",
            "Epoch 53/100\n",
            "380/380 [==============================] - 90s 237ms/step - loss: 0.1541 - accuracy: 0.9415\n",
            "Epoch 54/100\n",
            "380/380 [==============================] - 88s 231ms/step - loss: 0.1688 - accuracy: 0.9346\n",
            "Epoch 55/100\n",
            "380/380 [==============================] - 93s 244ms/step - loss: 0.1663 - accuracy: 0.9400\n",
            "Epoch 56/100\n",
            "380/380 [==============================] - 93s 244ms/step - loss: 0.1711 - accuracy: 0.9393\n",
            "Epoch 57/100\n",
            "380/380 [==============================] - 92s 241ms/step - loss: 0.1536 - accuracy: 0.9430\n",
            "Epoch 58/100\n",
            "380/380 [==============================] - 92s 241ms/step - loss: 0.1632 - accuracy: 0.9392\n",
            "Epoch 59/100\n",
            "380/380 [==============================] - 93s 245ms/step - loss: 0.1571 - accuracy: 0.9430\n",
            "Epoch 60/100\n",
            "380/380 [==============================] - 96s 253ms/step - loss: 0.1597 - accuracy: 0.9396\n",
            "Epoch 61/100\n",
            "380/380 [==============================] - 92s 243ms/step - loss: 0.1574 - accuracy: 0.9391\n",
            "Epoch 62/100\n",
            "380/380 [==============================] - 92s 243ms/step - loss: 0.1463 - accuracy: 0.9459\n",
            "Epoch 63/100\n",
            "380/380 [==============================] - 91s 241ms/step - loss: 0.1511 - accuracy: 0.9432\n",
            "Epoch 64/100\n",
            "380/380 [==============================] - 92s 242ms/step - loss: 0.1591 - accuracy: 0.9367\n",
            "Epoch 65/100\n",
            "380/380 [==============================] - 90s 238ms/step - loss: 0.1593 - accuracy: 0.9412\n",
            "Epoch 66/100\n",
            "380/380 [==============================] - 91s 239ms/step - loss: 0.1612 - accuracy: 0.9405\n",
            "Epoch 67/100\n",
            "380/380 [==============================] - 89s 233ms/step - loss: 0.1456 - accuracy: 0.9454\n",
            "Epoch 68/100\n",
            "380/380 [==============================] - 88s 231ms/step - loss: 0.1651 - accuracy: 0.9408\n",
            "Epoch 69/100\n",
            "380/380 [==============================] - 90s 238ms/step - loss: 0.1554 - accuracy: 0.9412\n",
            "Epoch 70/100\n",
            "380/380 [==============================] - 88s 231ms/step - loss: 0.1580 - accuracy: 0.9387\n",
            "Epoch 71/100\n",
            "380/380 [==============================] - 103s 271ms/step - loss: 0.1560 - accuracy: 0.9430\n",
            "Epoch 72/100\n",
            "380/380 [==============================] - 90s 238ms/step - loss: 0.1557 - accuracy: 0.9396\n",
            "Epoch 73/100\n",
            "380/380 [==============================] - 94s 246ms/step - loss: 0.1467 - accuracy: 0.9474\n",
            "Epoch 74/100\n",
            "380/380 [==============================] - 91s 240ms/step - loss: 0.1563 - accuracy: 0.9415\n",
            "Epoch 75/100\n",
            "380/380 [==============================] - 92s 243ms/step - loss: 0.1530 - accuracy: 0.9405\n",
            "Epoch 76/100\n",
            "380/380 [==============================] - 89s 235ms/step - loss: 0.1528 - accuracy: 0.9480\n",
            "Epoch 77/100\n",
            "380/380 [==============================] - 91s 238ms/step - loss: 0.1642 - accuracy: 0.9387\n",
            "Epoch 78/100\n",
            "380/380 [==============================] - 91s 239ms/step - loss: 0.1542 - accuracy: 0.9449\n",
            "Epoch 79/100\n",
            "380/380 [==============================] - 89s 233ms/step - loss: 0.1496 - accuracy: 0.9428\n",
            "Epoch 80/100\n",
            "380/380 [==============================] - 92s 241ms/step - loss: 0.1559 - accuracy: 0.9433\n",
            "Epoch 81/100\n",
            "380/380 [==============================] - 90s 236ms/step - loss: 0.1399 - accuracy: 0.9497\n",
            "Epoch 82/100\n",
            "380/380 [==============================] - 92s 241ms/step - loss: 0.1450 - accuracy: 0.9483\n",
            "Epoch 83/100\n",
            "380/380 [==============================] - 89s 235ms/step - loss: 0.1492 - accuracy: 0.9404\n",
            "Epoch 84/100\n",
            "380/380 [==============================] - 93s 243ms/step - loss: 0.1458 - accuracy: 0.9459\n",
            "Epoch 85/100\n",
            "380/380 [==============================] - 91s 238ms/step - loss: 0.1528 - accuracy: 0.9425\n",
            "Epoch 86/100\n",
            "380/380 [==============================] - 90s 236ms/step - loss: 0.1545 - accuracy: 0.9444\n",
            "Epoch 87/100\n",
            "380/380 [==============================] - 91s 240ms/step - loss: 0.1430 - accuracy: 0.9459\n",
            "Epoch 88/100\n",
            "380/380 [==============================] - 89s 233ms/step - loss: 0.1350 - accuracy: 0.9463\n",
            "Epoch 89/100\n",
            "380/380 [==============================] - 92s 242ms/step - loss: 0.1403 - accuracy: 0.9483\n",
            "Epoch 90/100\n",
            "380/380 [==============================] - 91s 240ms/step - loss: 0.1503 - accuracy: 0.9466\n",
            "Epoch 91/100\n",
            "380/380 [==============================] - 90s 236ms/step - loss: 0.1323 - accuracy: 0.9505\n",
            "Epoch 92/100\n",
            "380/380 [==============================] - 89s 234ms/step - loss: 0.1440 - accuracy: 0.9442\n",
            "Epoch 93/100\n",
            "380/380 [==============================] - 91s 240ms/step - loss: 0.1548 - accuracy: 0.9401\n",
            "Epoch 94/100\n",
            "380/380 [==============================] - 89s 234ms/step - loss: 0.1337 - accuracy: 0.9486\n",
            "Epoch 95/100\n",
            "380/380 [==============================] - 90s 237ms/step - loss: 0.1390 - accuracy: 0.9445\n",
            "Epoch 96/100\n",
            "380/380 [==============================] - 88s 232ms/step - loss: 0.1506 - accuracy: 0.9408\n",
            "Epoch 97/100\n",
            "380/380 [==============================] - 90s 236ms/step - loss: 0.1439 - accuracy: 0.9491\n",
            "Epoch 98/100\n",
            "380/380 [==============================] - 90s 236ms/step - loss: 0.1498 - accuracy: 0.9446\n",
            "Epoch 99/100\n",
            "380/380 [==============================] - 89s 233ms/step - loss: 0.1379 - accuracy: 0.9486\n",
            "Epoch 100/100\n",
            "380/380 [==============================] - 89s 233ms/step - loss: 0.1474 - accuracy: 0.9433\n"
          ]
        }
      ]
    },
    {
      "cell_type": "code",
      "source": [
        "model.save('Hue.h5')"
      ],
      "metadata": {
        "id": "bnyIMXZGOhRj"
      },
      "execution_count": null,
      "outputs": []
    },
    {
      "cell_type": "code",
      "source": [
        "plt.plot(history.history[\"loss\"], label =\"Train loss\")\n",
        "plt.show()\n",
        "plt.plot(history.history[\"accuracy\"], label =\"Accuracy\")\n",
        "plt.show()"
      ],
      "metadata": {
        "id": "Wzb-V5J9OdDw"
      },
      "execution_count": null,
      "outputs": []
    },
    {
      "cell_type": "code",
      "source": [
        "predictions = model.predict_generator(val_set, steps=16, verbose=1)"
      ],
      "metadata": {
        "id": "2U3Bo0k_X_ls"
      },
      "execution_count": null,
      "outputs": []
    },
    {
      "cell_type": "code",
      "source": [
        "predictions.shape"
      ],
      "metadata": {
        "colab": {
          "base_uri": "https://localhost:8080/"
        },
        "id": "5R5fJtCvbvgB",
        "outputId": "c4e39db7-2692-4031-e847-5c83688317ef"
      },
      "execution_count": null,
      "outputs": [
        {
          "output_type": "execute_result",
          "data": {
            "text/plain": [
              "(16, 2)"
            ]
          },
          "metadata": {},
          "execution_count": 17
        }
      ]
    },
    {
      "cell_type": "code",
      "source": [
        "print(test_set.class_indices)"
      ],
      "metadata": {
        "colab": {
          "base_uri": "https://localhost:8080/"
        },
        "id": "INdaBehzSaUs",
        "outputId": "caa428f3-cdf0-4dbf-9edf-0c02866508f6"
      },
      "execution_count": null,
      "outputs": [
        {
          "output_type": "stream",
          "name": "stdout",
          "text": [
            "{'NORMAL': 0, 'PNEUMONIA': 1}\n"
          ]
        }
      ]
    },
    {
      "cell_type": "code",
      "source": [
        "img = load_img(\"/content/drive/MyDrive/pneumonia_xray/test/NORMAL/IM-0003-0001.jpeg\",target_size=(64,64))\n",
        "plt.imshow(img)\n",
        "img = img_to_array(img)\n",
        "img = img.reshape(1,64,64,3)  \n",
        "img = img.astype('float32')\n",
        "img /= 255\n",
        "prediction = model.predict(img).argmax()\n",
        "plt.title(\"Predicted Label for the image is {}\".format(dudoan[prediction]))\n",
        "y_pred = model.predict(img)\n",
        "a = y_pred.max()\n",
        "a = a*100\n",
        "print(\"Accuracy: \",a, '%')\n"
      ],
      "metadata": {
        "id": "8orRxbrWjV96"
      },
      "execution_count": null,
      "outputs": []
    },
    {
      "cell_type": "code",
      "source": [
        "img = load_img('/content/drive/MyDrive/pneumonia_xray/test/PNEUMONIA/person143_bacteria_688.jpeg',target_size=(64,64))\n",
        "plt.imshow(img)\n",
        "img = img_to_array(img)\n",
        "img = img.reshape(1,64,64,3)  \n",
        "img = img.astype('float32')\n",
        "img /= 255\n",
        "prediction = model.predict(img).argmax()\n",
        "plt.title(\"Predicted Label for the image is {}\".format(dudoan[prediction]))\n",
        "y_pred = model.predict(img)\n",
        "a = y_pred.max()\n",
        "a = a*100\n",
        "print(a, '%')"
      ],
      "metadata": {
        "colab": {
          "base_uri": "https://localhost:8080/",
          "height": 298
        },
        "id": "OzNwohKXDKTu",
        "outputId": "1faaa825-338d-4ba2-a120-3fdc433b98f8"
      },
      "execution_count": null,
      "outputs": [
        {
          "output_type": "stream",
          "name": "stdout",
          "text": [
            "99.99572038650513 %\n"
          ]
        },
        {
          "output_type": "display_data",
          "data": {
            "text/plain": [
              "<Figure size 432x288 with 1 Axes>"
            ],
            "image/png": "[encoded data removed]"
          },
          "metadata": {
            "needs_background": "light"
          }
        }
      ]
    }
  ]
}